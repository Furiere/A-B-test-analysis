{
 "cells": [
  {
   "cell_type": "code",
   "execution_count": 2,
   "metadata": {},
   "outputs": [],
   "source": [
    "import pandas as pd\n",
    "import seaborn as sns\n",
    "import matplotlib.pyplot as plt\n",
    "import pingouin as pg\n",
    "\n",
    "from scipy.stats import chi2_contingency, shapiro, ttest_ind \n",
    "from datetime import datetime\n",
    "\n",
    "%matplotlib inline\n",
    "plt.style.use('ggplot')"
   ]
  },
  {
   "cell_type": "markdown",
   "metadata": {},
   "source": [
    "# A/B test result interpretation\n",
    "_We have results of an A/B test. There're two groups. How can we describe the results? What metrics should we analyze and how?_"
   ]
  },
  {
   "cell_type": "markdown",
   "metadata": {},
   "source": [
    "## Let's look at the data"
   ]
  },
  {
   "cell_type": "code",
   "execution_count": 12,
   "metadata": {},
   "outputs": [],
   "source": [
    "df = pd.read_csv('Проект_1_Задание_2.csv', sep=';')"
   ]
  },
  {
   "cell_type": "code",
   "execution_count": 13,
   "metadata": {},
   "outputs": [
    {
     "data": {
      "text/html": [
       "<div>\n",
       "<style scoped>\n",
       "    .dataframe tbody tr th:only-of-type {\n",
       "        vertical-align: middle;\n",
       "    }\n",
       "\n",
       "    .dataframe tbody tr th {\n",
       "        vertical-align: top;\n",
       "    }\n",
       "\n",
       "    .dataframe thead th {\n",
       "        text-align: right;\n",
       "    }\n",
       "</style>\n",
       "<table border=\"1\" class=\"dataframe\">\n",
       "  <thead>\n",
       "    <tr style=\"text-align: right;\">\n",
       "      <th></th>\n",
       "      <th>user_id</th>\n",
       "      <th>revenue</th>\n",
       "      <th>testgroup</th>\n",
       "    </tr>\n",
       "  </thead>\n",
       "  <tbody>\n",
       "    <tr>\n",
       "      <th>0</th>\n",
       "      <td>1</td>\n",
       "      <td>0</td>\n",
       "      <td>b</td>\n",
       "    </tr>\n",
       "    <tr>\n",
       "      <th>1</th>\n",
       "      <td>2</td>\n",
       "      <td>0</td>\n",
       "      <td>a</td>\n",
       "    </tr>\n",
       "    <tr>\n",
       "      <th>2</th>\n",
       "      <td>3</td>\n",
       "      <td>0</td>\n",
       "      <td>a</td>\n",
       "    </tr>\n",
       "    <tr>\n",
       "      <th>3</th>\n",
       "      <td>4</td>\n",
       "      <td>0</td>\n",
       "      <td>b</td>\n",
       "    </tr>\n",
       "    <tr>\n",
       "      <th>4</th>\n",
       "      <td>5</td>\n",
       "      <td>0</td>\n",
       "      <td>b</td>\n",
       "    </tr>\n",
       "  </tbody>\n",
       "</table>\n",
       "</div>"
      ],
      "text/plain": [
       "   user_id  revenue testgroup\n",
       "0        1        0         b\n",
       "1        2        0         a\n",
       "2        3        0         a\n",
       "3        4        0         b\n",
       "4        5        0         b"
      ]
     },
     "metadata": {},
     "output_type": "display_data"
    },
    {
     "name": "stdout",
     "output_type": "stream",
     "text": [
      "No. of ids: 404770 \n",
      "\n",
      "<class 'pandas.core.frame.DataFrame'>\n",
      "RangeIndex: 404770 entries, 0 to 404769\n",
      "Data columns (total 3 columns):\n",
      " #   Column     Non-Null Count   Dtype \n",
      "---  ------     --------------   ----- \n",
      " 0   user_id    404770 non-null  int64 \n",
      " 1   revenue    404770 non-null  int64 \n",
      " 2   testgroup  404770 non-null  object\n",
      "dtypes: int64(2), object(1)\n",
      "memory usage: 9.3+ MB\n"
     ]
    },
    {
     "data": {
      "text/plain": [
       "None"
      ]
     },
     "metadata": {},
     "output_type": "display_data"
    },
    {
     "name": "stdout",
     "output_type": "stream",
     "text": [
      "Duplicates: 0\n"
     ]
    }
   ],
   "source": [
    "display(df.head())\n",
    "print(f\"No. of ids: {df.shape[0]} \\n\")\n",
    "display(df.info())\n",
    "print(f\"Duplicates: {df.duplicated().sum()}\")"
   ]
  },
  {
   "cell_type": "markdown",
   "metadata": {},
   "source": [
    "a - control group\n",
    "b - test group"
   ]
  },
  {
   "cell_type": "code",
   "execution_count": 14,
   "metadata": {},
   "outputs": [
    {
     "data": {
      "text/plain": [
       "b    202667\n",
       "a    202103\n",
       "Name: testgroup, dtype: int64"
      ]
     },
     "execution_count": 14,
     "metadata": {},
     "output_type": "execute_result"
    }
   ],
   "source": [
    "df.testgroup.value_counts()"
   ]
  },
  {
   "cell_type": "code",
   "execution_count": 15,
   "metadata": {},
   "outputs": [],
   "source": [
    "df_a = df.query(\"testgroup == 'a'\")\n",
    "df_b = df.query(\"testgroup == 'b'\")"
   ]
  },
  {
   "cell_type": "markdown",
   "metadata": {},
   "source": [
    "## Let's count some metrics"
   ]
  },
  {
   "cell_type": "markdown",
   "metadata": {},
   "source": [
    "No. of paying users for ARPPU"
   ]
  },
  {
   "cell_type": "code",
   "execution_count": 16,
   "metadata": {},
   "outputs": [],
   "source": [
    "a_revenue = df_a.query(\"revenue > 0\")\n",
    "b_revenue = df_b.query(\"revenue > 0\")\n",
    "\n",
    "a_revenue_sum = df_a.revenue.sum()\n",
    "b_revenue_sum = df_b.revenue.sum()\n",
    "\n",
    "a_count = df_a.user_id.shape[0]\n",
    "b_count = df_b.user_id.shape[0]\n",
    "\n",
    "a_pay = a_revenue.revenue.shape[0]\n",
    "b_pay = b_revenue.revenue.shape[0]"
   ]
  },
  {
   "cell_type": "markdown",
   "metadata": {},
   "source": [
    "Conversion"
   ]
  },
  {
   "cell_type": "code",
   "execution_count": 17,
   "metadata": {},
   "outputs": [],
   "source": [
    "a_conv = round(a_pay / a_count * 100,2)\n",
    "b_conv = round(b_pay / b_count * 100,2)"
   ]
  },
  {
   "cell_type": "markdown",
   "metadata": {},
   "source": [
    "Min, max, median revenue"
   ]
  },
  {
   "cell_type": "code",
   "execution_count": 18,
   "metadata": {},
   "outputs": [],
   "source": [
    "a_mean_revenue = a_revenue.revenue.mean()\n",
    "b_mean_revenue = b_revenue.revenue.mean()\n",
    "   \n",
    "a_median_revenue = a_revenue.revenue.median()\n",
    "b_median_revenue = b_revenue.revenue.median()\n",
    "\n",
    "a_max_revenue = df_a.revenue.max()\n",
    "b_max_revenue = df_b.revenue.max()\n",
    "\n",
    "a_min_revenue = a_revenue.revenue.min()\n",
    "b_min_revenue = b_revenue.revenue.min()"
   ]
  },
  {
   "cell_type": "markdown",
   "metadata": {},
   "source": [
    "ARPU/ ARPPU"
   ]
  },
  {
   "cell_type": "code",
   "execution_count": 19,
   "metadata": {},
   "outputs": [],
   "source": [
    "a_ARPPU = round(a_revenue_sum / a_pay)\n",
    "b_ARPPU = round(b_revenue_sum / b_pay)\n",
    "\n",
    "a_ARPU = a_conv * a_ARPPU\n",
    "b_ARPU = b_conv * b_ARPPU"
   ]
  },
  {
   "cell_type": "code",
   "execution_count": 20,
   "metadata": {},
   "outputs": [
    {
     "data": {
      "text/html": [
       "<div>\n",
       "<style scoped>\n",
       "    .dataframe tbody tr th:only-of-type {\n",
       "        vertical-align: middle;\n",
       "    }\n",
       "\n",
       "    .dataframe tbody tr th {\n",
       "        vertical-align: top;\n",
       "    }\n",
       "\n",
       "    .dataframe thead th {\n",
       "        text-align: right;\n",
       "    }\n",
       "</style>\n",
       "<table border=\"1\" class=\"dataframe\">\n",
       "  <thead>\n",
       "    <tr style=\"text-align: right;\">\n",
       "      <th></th>\n",
       "      <th>ids</th>\n",
       "      <th>paying_users</th>\n",
       "      <th>conversion</th>\n",
       "      <th>sum_revenue</th>\n",
       "      <th>mean_revenue</th>\n",
       "      <th>median_revenue</th>\n",
       "      <th>max_revenue</th>\n",
       "      <th>min_revenue</th>\n",
       "      <th>ARPU</th>\n",
       "      <th>ARPPU</th>\n",
       "    </tr>\n",
       "  </thead>\n",
       "  <tbody>\n",
       "    <tr>\n",
       "      <th>a_control</th>\n",
       "      <td>202103</td>\n",
       "      <td>1928</td>\n",
       "      <td>0.95</td>\n",
       "      <td>5136189</td>\n",
       "      <td>2663.998444</td>\n",
       "      <td>311.0</td>\n",
       "      <td>37433</td>\n",
       "      <td>200</td>\n",
       "      <td>2530.80</td>\n",
       "      <td>2664</td>\n",
       "    </tr>\n",
       "    <tr>\n",
       "      <th>b_test</th>\n",
       "      <td>202667</td>\n",
       "      <td>1805</td>\n",
       "      <td>0.89</td>\n",
       "      <td>5421603</td>\n",
       "      <td>3003.658172</td>\n",
       "      <td>3022.0</td>\n",
       "      <td>4000</td>\n",
       "      <td>2000</td>\n",
       "      <td>2673.56</td>\n",
       "      <td>3004</td>\n",
       "    </tr>\n",
       "  </tbody>\n",
       "</table>\n",
       "</div>"
      ],
      "text/plain": [
       "              ids  paying_users  conversion  sum_revenue  mean_revenue  \\\n",
       "a_control  202103          1928        0.95      5136189   2663.998444   \n",
       "b_test     202667          1805        0.89      5421603   3003.658172   \n",
       "\n",
       "           median_revenue  max_revenue  min_revenue     ARPU  ARPPU  \n",
       "a_control           311.0        37433          200  2530.80   2664  \n",
       "b_test             3022.0         4000         2000  2673.56   3004  "
      ]
     },
     "execution_count": 20,
     "metadata": {},
     "output_type": "execute_result"
    }
   ],
   "source": [
    "metrics = pd.DataFrame({'ids': [a_count, b_count],\n",
    "              'paying_users': [a_pay, b_pay],\n",
    "              'conversion':[a_conv, b_conv],\n",
    "              'sum_revenue':[a_revenue_sum, b_revenue_sum],\n",
    "              'mean_revenue':[a_mean_revenue, b_mean_revenue],\n",
    "              'median_revenue':[a_median_revenue, b_median_revenue],\n",
    "              'max_revenue':[a_max_revenue, b_max_revenue],\n",
    "              'min_revenue':[a_min_revenue, b_min_revenue],\n",
    "              'ARPU':[a_ARPU, b_ARPU],\n",
    "              'ARPPU':[a_ARPPU, b_ARPPU]},\n",
    "            index=['a_control', 'b_test'])\n",
    "metrics"
   ]
  },
  {
   "cell_type": "markdown",
   "metadata": {},
   "source": [
    "1. Conversion in the test group decreased by 6 per cent\n",
    "2. Total revenue has grown (285K)\n",
    "3. Mean revenue in the test group is higher by 400\n",
    "4. Median revenue has grown by 10 times.\n",
    "\n",
    "Based on all of this we can say that the test group shows more close revenue values. In the control group we have lots of low-revenue clients and a few ones who pay a lot."
   ]
  },
  {
   "cell_type": "markdown",
   "metadata": {},
   "source": [
    "Let's look at the charts to get a better view."
   ]
  },
  {
   "cell_type": "code",
   "execution_count": 21,
   "metadata": {},
   "outputs": [
    {
     "data": {
      "text/plain": [
       "<AxesSubplot: xlabel='revenue', ylabel='Count'>"
      ]
     },
     "execution_count": 21,
     "metadata": {},
     "output_type": "execute_result"
    },
    {
     "data": {
      "image/png": "[encoded data removed]",
      "text/plain": [
       "<Figure size 1000x500 with 1 Axes>"
      ]
     },
     "metadata": {},
     "output_type": "display_data"
    }
   ],
   "source": [
    "plt.figure(figsize=(10, 5))\n",
    "sns.histplot(a_revenue.revenue)"
   ]
  },
  {
   "cell_type": "code",
   "execution_count": 22,
   "metadata": {},
   "outputs": [
    {
     "data": {
      "text/plain": [
       "<AxesSubplot: xlabel='revenue', ylabel='Count'>"
      ]
     },
     "execution_count": 22,
     "metadata": {},
     "output_type": "execute_result"
    },
    {
     "data": {
      "image/png": "[encoded data removed]",
      "text/plain": [
       "<Figure size 1000x500 with 1 Axes>"
      ]
     },
     "metadata": {},
     "output_type": "display_data"
    }
   ],
   "source": [
    "plt.figure(figsize=(10, 5))\n",
    "sns.histplot(b_revenue.revenue)"
   ]
  },
  {
   "cell_type": "markdown",
   "metadata": {},
   "source": [
    "Let's count the fraction of high-paying client in the control group (testgroup == a)"
   ]
  },
  {
   "cell_type": "code",
   "execution_count": null,
   "metadata": {},
   "outputs": [],
   "source": [
    "max_spent_clients = df_a.query('revenue > 3000').user_id.nunique()\n",
    "print(f\"No. of clients that pay a lot: {max_spent_clients}\")\n",
    "print(f\"Which is {round(max_spent_clients / df_a.user_id.nunique(), 5)*100} per cent of the control group\")\n",
    "print(f\"Fraction of these clients in the whole revenue sum: {round(df_a.query('revenue > 3000').revenue.sum() / df_a.query('revenue > 0').revenue.sum() * 100, 1)}%\")"
   ]
  },
  {
   "cell_type": "markdown",
   "metadata": {},
   "source": [
    "## Теперь необходимо проверить статистическую значимость полученных изменений в ARPU, ARPPU и конверсии"
   ]
  },
  {
   "cell_type": "markdown",
   "metadata": {},
   "source": [
    "1. Проверим распределение средних на нормальность (тест Шапиро).\n",
    "2. Првоерим дисперсии на гомогенность (тест Левена).\n",
    "3. Применим т-тест для проверки наличия статистически значимой разницы между ARPU в двух группах\n",
    "4. Повторим то же для ARPPU\n",
    "5. Используем хи-квадрат в случае конверсии (создадим дихотомическую переменную \"купил/ не купил\")"
   ]
  },
  {
   "cell_type": "markdown",
   "metadata": {},
   "source": [
    "### ARPU"
   ]
  },
  {
   "cell_type": "markdown",
   "metadata": {},
   "source": [
    "Тест Шапиро. Применяем на сэмплированных выборках."
   ]
  },
  {
   "cell_type": "code",
   "execution_count": 24,
   "metadata": {},
   "outputs": [
    {
     "name": "stdout",
     "output_type": "stream",
     "text": [
      "ShapiroResult(statistic=0.9779605269432068, pvalue=0.0920826643705368) ShapiroResult(statistic=0.9734942317008972, pvalue=0.04115915298461914)\n"
     ]
    }
   ],
   "source": [
    "sample_means_a = []\n",
    "sample_means_b = []\n",
    "for i in range(100):\n",
    "    sample_a = df_a.revenue.sample(frac=1, replace=True)\n",
    "    sample_b = df_b.revenue.sample(frac=1, replace=True)\n",
    "    \n",
    "    sample_means_a.append(sample_a.mean())\n",
    "    sample_means_b.append(sample_b.mean())\n",
    "    \n",
    "sp_a = shapiro(sample_means_a)\n",
    "\n",
    "sp_b = shapiro(sample_means_b)\n",
    "\n",
    "print(sp_a, sp_b)"
   ]
  },
  {
   "cell_type": "markdown",
   "metadata": {},
   "source": [
    "Принимаем, что средние распределены нормально, а значит можем перейти к проверке тестом Левена и далее к t-тесту."
   ]
  },
  {
   "cell_type": "markdown",
   "metadata": {},
   "source": [
    "Проверка тестом Левена на гомогенность дисперсий в группах. Результат выводим в табличку ниже."
   ]
  },
  {
   "cell_type": "code",
   "execution_count": 25,
   "metadata": {},
   "outputs": [
    {
     "data": {
      "text/html": [
       "<div>\n",
       "<style scoped>\n",
       "    .dataframe tbody tr th:only-of-type {\n",
       "        vertical-align: middle;\n",
       "    }\n",
       "\n",
       "    .dataframe tbody tr th {\n",
       "        vertical-align: top;\n",
       "    }\n",
       "\n",
       "    .dataframe thead th {\n",
       "        text-align: right;\n",
       "    }\n",
       "</style>\n",
       "<table border=\"1\" class=\"dataframe\">\n",
       "  <thead>\n",
       "    <tr style=\"text-align: right;\">\n",
       "      <th></th>\n",
       "      <th>W</th>\n",
       "      <th>pval</th>\n",
       "      <th>equal_var</th>\n",
       "    </tr>\n",
       "  </thead>\n",
       "  <tbody>\n",
       "    <tr>\n",
       "      <th>levene</th>\n",
       "      <td>0.389629</td>\n",
       "      <td>0.532495</td>\n",
       "      <td>True</td>\n",
       "    </tr>\n",
       "  </tbody>\n",
       "</table>\n",
       "</div>"
      ],
      "text/plain": [
       "               W      pval  equal_var\n",
       "levene  0.389629  0.532495       True"
      ]
     },
     "execution_count": 25,
     "metadata": {},
     "output_type": "execute_result"
    }
   ],
   "source": [
    "pg.homoscedasticity(data=df, dv=\"revenue\", group=\"testgroup\")"
   ]
  },
  {
   "cell_type": "markdown",
   "metadata": {},
   "source": [
    "Переходим к проверке т-тестом"
   ]
  },
  {
   "cell_type": "code",
   "execution_count": 26,
   "metadata": {},
   "outputs": [
    {
     "data": {
      "text/plain": [
       "Ttest_indResult(statistic=-0.6242026493616787, pvalue=0.532494858971837)"
      ]
     },
     "execution_count": 26,
     "metadata": {},
     "output_type": "execute_result"
    }
   ],
   "source": [
    "ttest_ind(df_a.revenue, df_b.revenue)"
   ]
  },
  {
   "cell_type": "markdown",
   "metadata": {},
   "source": [
    "Т-тест показал отсутствие статистической значимости в разнице ARPU между контрольной и тестовой группами."
   ]
  },
  {
   "cell_type": "markdown",
   "metadata": {},
   "source": [
    "### ARPPU"
   ]
  },
  {
   "cell_type": "code",
   "execution_count": 27,
   "metadata": {},
   "outputs": [
    {
     "name": "stdout",
     "output_type": "stream",
     "text": [
      "ShapiroResult(statistic=0.9797733426094055, pvalue=0.12763828039169312) ShapiroResult(statistic=0.988935649394989, pvalue=0.5795148015022278)\n"
     ]
    }
   ],
   "source": [
    "sample_means_a = []\n",
    "sample_means_b = []\n",
    "for i in range(100):\n",
    "    sample_a = a_revenue.revenue.sample(frac=1, replace=True)\n",
    "    sample_b = b_revenue.revenue.sample(frac=1, replace=True)\n",
    "    \n",
    "    sample_means_a.append(sample_a.mean())\n",
    "    sample_means_b.append(sample_b.mean())\n",
    "    \n",
    "sp_a = shapiro(sample_means_a)\n",
    "\n",
    "sp_b = shapiro(sample_means_b)\n",
    "\n",
    "print(sp_a, sp_b)"
   ]
  },
  {
   "cell_type": "code",
   "execution_count": 28,
   "metadata": {},
   "outputs": [
    {
     "data": {
      "text/plain": [
       "Ttest_indResult(statistic=-1.5917100176862005, pvalue=0.11153459157259497)"
      ]
     },
     "execution_count": 28,
     "metadata": {},
     "output_type": "execute_result"
    }
   ],
   "source": [
    "ttest_ind(a_revenue.revenue, b_revenue.revenue)"
   ]
  },
  {
   "cell_type": "markdown",
   "metadata": {},
   "source": [
    "Для ARPPU также не видим статистически значимого эффекта от проведения а/б теста."
   ]
  },
  {
   "cell_type": "markdown",
   "metadata": {},
   "source": [
    "### Конверсия"
   ]
  },
  {
   "cell_type": "markdown",
   "metadata": {},
   "source": [
    "Создадим дихотомическую переменную \"купил/ не купил\""
   ]
  },
  {
   "cell_type": "code",
   "execution_count": 29,
   "metadata": {},
   "outputs": [],
   "source": [
    "df['purchased'] = df.revenue > 0 "
   ]
  },
  {
   "cell_type": "code",
   "execution_count": 30,
   "metadata": {},
   "outputs": [
    {
     "data": {
      "text/plain": [
       "(4.374729521260405,\n",
       " 0.03647561892312613,\n",
       " 1,\n",
       " array([[200239.10075104, 200797.89924896],\n",
       "        [  1863.89924896,   1869.10075104]]))"
      ]
     },
     "execution_count": 30,
     "metadata": {},
     "output_type": "execute_result"
    }
   ],
   "source": [
    "chi2_contingency(pd.crosstab(df.purchased, df.testgroup))"
   ]
  },
  {
   "cell_type": "markdown",
   "metadata": {},
   "source": [
    "Мы увидели, что различия в конверсии статистически значимы. Выведем еще раз фрейм со значением метрик."
   ]
  },
  {
   "cell_type": "code",
   "execution_count": 31,
   "metadata": {},
   "outputs": [
    {
     "data": {
      "text/html": [
       "<div>\n",
       "<style scoped>\n",
       "    .dataframe tbody tr th:only-of-type {\n",
       "        vertical-align: middle;\n",
       "    }\n",
       "\n",
       "    .dataframe tbody tr th {\n",
       "        vertical-align: top;\n",
       "    }\n",
       "\n",
       "    .dataframe thead th {\n",
       "        text-align: right;\n",
       "    }\n",
       "</style>\n",
       "<table border=\"1\" class=\"dataframe\">\n",
       "  <thead>\n",
       "    <tr style=\"text-align: right;\">\n",
       "      <th></th>\n",
       "      <th>ids</th>\n",
       "      <th>paying_users</th>\n",
       "      <th>conversion</th>\n",
       "      <th>sum_revenue</th>\n",
       "      <th>mean_revenue</th>\n",
       "      <th>median_revenue</th>\n",
       "      <th>max_revenue</th>\n",
       "      <th>min_revenue</th>\n",
       "      <th>ARPU</th>\n",
       "      <th>ARPPU</th>\n",
       "    </tr>\n",
       "  </thead>\n",
       "  <tbody>\n",
       "    <tr>\n",
       "      <th>a_control</th>\n",
       "      <td>202103</td>\n",
       "      <td>1928</td>\n",
       "      <td>0.95</td>\n",
       "      <td>5136189</td>\n",
       "      <td>2663.998444</td>\n",
       "      <td>311.0</td>\n",
       "      <td>37433</td>\n",
       "      <td>200</td>\n",
       "      <td>2530.80</td>\n",
       "      <td>2664</td>\n",
       "    </tr>\n",
       "    <tr>\n",
       "      <th>b_test</th>\n",
       "      <td>202667</td>\n",
       "      <td>1805</td>\n",
       "      <td>0.89</td>\n",
       "      <td>5421603</td>\n",
       "      <td>3003.658172</td>\n",
       "      <td>3022.0</td>\n",
       "      <td>4000</td>\n",
       "      <td>2000</td>\n",
       "      <td>2673.56</td>\n",
       "      <td>3004</td>\n",
       "    </tr>\n",
       "  </tbody>\n",
       "</table>\n",
       "</div>"
      ],
      "text/plain": [
       "              ids  paying_users  conversion  sum_revenue  mean_revenue  \\\n",
       "a_control  202103          1928        0.95      5136189   2663.998444   \n",
       "b_test     202667          1805        0.89      5421603   3003.658172   \n",
       "\n",
       "           median_revenue  max_revenue  min_revenue     ARPU  ARPPU  \n",
       "a_control           311.0        37433          200  2530.80   2664  \n",
       "b_test             3022.0         4000         2000  2673.56   3004  "
      ]
     },
     "execution_count": 31,
     "metadata": {},
     "output_type": "execute_result"
    }
   ],
   "source": [
    "metrics"
   ]
  },
  {
   "cell_type": "code",
   "execution_count": null,
   "metadata": {},
   "outputs": [],
   "source": []
  },
  {
   "cell_type": "markdown",
   "metadata": {},
   "source": [
    "## Выводы"
   ]
  },
  {
   "cell_type": "markdown",
   "metadata": {},
   "source": [
    "На основе анализа трех метрик (ARPU, ARPPU, конверсия), на первый взгляд, у нас имеется только статистически значимая разница в конверсии на 6%. Это может напугать и заставить отказаться от предложения для тестовой группы.\n",
    "Но характер изменений в структуре покупок клиентов не позволяет однозначно сказать \"нет\". В контрольной группе основная часть клиентов вносила небольшие платежи, малая часть (123 чел) внесли 90% выручки.\n",
    "В тестовой группе гораздо более сглаженная картина чеков и в целом выручка больше на 285 тысяч.\n",
    "\n",
    "Надо разбираться дальше и точно иметь какие-либо уточнения или больше информации об этом исследовании.\n"
   ]
  },
  {
   "cell_type": "markdown",
   "metadata": {},
   "source": []
  },
  {
   "cell_type": "markdown",
   "metadata": {},
   "source": [
    "# Задание 3\n",
    "\n",
    "_В игре Plants & Gardens каждый месяц проводятся тематические события, ограниченные по времени. В них игроки могут получить уникальные предметы для сада и персонажей, дополнительные монеты или бонусы. Для получения награды требуется пройти ряд уровней за определенное время. С помощью каких метрик можно оценить результаты последнего прошедшего события?_"
   ]
  },
  {
   "cell_type": "markdown",
   "metadata": {},
   "source": [
    "1. DAU - анализируем, насколько подскочила аудитория в дни проведения событий\n",
    "2. Retention - анализируем удержание клиентов при помощи событий (возвращаются ли пользователи в игру ради событий). Хотя тут надо понимать, что есть пользователи, которые и без событий возвращаются каждый день и верно интерпретировать возможноые скачки метрики.\n",
    "3. Churn rate - анализируем отток пользователей\n",
    "4. Конверсия - анализируем конверсию в покупку\n",
    "5. ARPU/ARPPU - анализируем среднюю доходность с пользователей и платящих пользователей (покупателей внутриигровых предметов). Например, после события у пользователей проснулся интерес к игре и они совершили внутриигровые покупки\n",
    "6. Время, затраченное на прохождение уровней (не слишком ли быстро, не слишком ли долго). В сравнении со временем нахождения в игре, но не в событии.\n",
    "7. Воронку прохождения уровней (сколько человек отваливается на n-ном уровне). Возможно, где-то нужно подкрутить время на прохождение или сложность, чтобы меньше людей отваливалось и оставалось недовольными (как от чрезмерной сложности, так и от легкости). Тогда большее число довольных людей останется в игре и после события."
   ]
  },
  {
   "cell_type": "markdown",
   "metadata": {},
   "source": [
    "_Предположим, в другом событии мы усложнили механику событий так, что при каждой неудачной попытке выполнения уровня игрок будет откатываться на несколько уровней назад. Изменится ли набор метрик оценки результата? Если да, то как?_"
   ]
  },
  {
   "cell_type": "markdown",
   "metadata": {},
   "source": [
    "Понятно, что это нужно для того, чтобы вызвать азарт и заставить человека больше времени провести в игре во время события.\n",
    "Значит нужно уделить особое внимание метрике кол-ва времени, проведенного в самом событии. Плюс отток пользователей, ведь это усложнение, а любое усложнение может вызвать негативную реакцию пользователей.\n",
    "Плюс можно подкручивать число уровней, на которые откатывается игрок, и проверять отток.\n",
    "Также можно анализировать изменение DAU при разной сложности."
   ]
  },
  {
   "cell_type": "markdown",
   "metadata": {},
   "source": []
  }
 ],
 "metadata": {
  "kernelspec": {
   "display_name": "Python 3.10.8 64-bit",
   "language": "python",
   "name": "python3"
  },
  "language_info": {
   "codemirror_mode": {
    "name": "ipython",
    "version": 3
   },
   "file_extension": ".py",
   "mimetype": "text/x-python",
   "name": "python",
   "nbconvert_exporter": "python",
   "pygments_lexer": "ipython3",
   "version": "3.10.8"
  },
  "vscode": {
   "interpreter": {
    "hash": "aee8b7b246df8f9039afb4144a1f6fd8d2ca17a180786b69acc140d282b71a49"
   }
  }
 },
 "nbformat": 4,
 "nbformat_minor": 4
}
